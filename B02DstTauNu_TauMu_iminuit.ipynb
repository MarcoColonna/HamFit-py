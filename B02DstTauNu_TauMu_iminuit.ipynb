{
 "cells": [
  {
   "cell_type": "code",
   "execution_count": null,
   "id": "8b35ac8b",
   "metadata": {},
   "outputs": [],
   "source": [
    "## import some modules between which also our HamFit_py\n",
    "\n",
    "import HamF_py as hamf\n",
    "from iminuit import Minuit\n",
    "import numpy as np"
   ]
  },
  {
   "cell_type": "code",
   "execution_count": null,
   "id": "ca123e3e",
   "metadata": {},
   "outputs": [],
   "source": [
    "# here we make use of the Reader class\n",
    "# that makes use of the classes in the module and gives you a fitter object\n",
    "# that you can than use to interface any kind of fitting interface\n",
    "\n",
    "reader = hamf.Reader(\"B02DstTauNu_TauMu.config\")\n",
    "fitter = reader.createFitter()"
   ]
  },
  {
   "cell_type": "code",
   "execution_count": null,
   "id": "b91219d0",
   "metadata": {
    "scrolled": false
   },
   "outputs": [],
   "source": [
    "# from the fitter object you can change the parameters and see how it change\n",
    "# the plot method compares the template with a toy that is produced according to the parameters in the .config file\n",
    "\n",
    "params = {\"SM\" : 1., \"Re_S_qLlL\" : -0., \"Im_S_qLlL\" : 0. , \"Re_S_qRlL\" : 0., \"Im_S_qRlL\" : 0.,  \"Re_V_qLlL\" : 0., \"Im_V_qLlL\" : 0. , \"Re_V_qRlL\" : 0., \"Im_V_qRlL\" : 0., \"Re_T_qLlL\" : 0.0, \"Im_T_qLlL\" : +0., \"delta_RhoSq\" : 0.0, \"delta_cSt\" : 0.0, \"delta_chi21\" : 0., \"delta_chi2p\" : 0., \"delta_chi3p\" : 0., \"delta_eta1\" : 0., \"delta_etap\" : 0., \"delta_phi1p\" : 0., \"delta_beta21\" : 0., \"delta_beta3p\" : 0.,\"lumi\" : 1.}\n",
    "fitter.plot(**params)"
   ]
  },
  {
   "cell_type": "code",
   "execution_count": null,
   "id": "76095ef7",
   "metadata": {},
   "outputs": [],
   "source": [
    "# the fitter object is very general:\n",
    "# you can fit into basically any fitting interface, for example let's do a scan on the\n",
    "# scalar LL wilson coefficient keeping all the d.o.f except the SM fixed\n",
    "\n",
    "# we just have to write a couple of simple functions and it is done!\n",
    "\n",
    "# in the future we also aim to include this already in the HamF module\n",
    "\n",
    "def fit_scan_FF_fixed(fitter,val1,val2,**initial_guess):\n",
    "    def nll_wrapped(SM, Re_S_qLlL, Im_S_qLlL, Re_S_qRlL, Im_S_qRlL, Re_V_qLlL, Im_V_qLlL, Re_V_qRlL, Im_V_qRlL, Re_T_qLlL, Im_T_qLlL, delta_RhoSq,delta_cSt,delta_chi21,delta_chi2p,delta_chi3p,delta_eta1,delta_etap,delta_phi1p,delta_beta21,delta_beta3p,lumi):\n",
    "        return fitter.negative_log_likelihood(SM=SM, Re_S_qLlL=Re_S_qLlL, Im_S_qLlL=Im_S_qLlL, Re_S_qRlL=Re_S_qRlL, Im_S_qRlL=Im_S_qRlL, Re_V_qLlL=Re_V_qLlL, Im_V_qLlL=Im_V_qLlL, Re_V_qRlL=Re_V_qRlL, Im_V_qRlL=Im_V_qRlL, Re_T_qLlL=Re_T_qLlL, Im_T_qLlL=Im_T_qLlL,delta_RhoSq=delta_RhoSq,delta_cSt=delta_cSt,delta_chi21=delta_chi21,delta_chi2p=delta_chi2p,delta_chi3p=delta_chi3p,delta_eta1=delta_eta1,delta_etap=delta_etap,delta_phi1p=delta_phi1p,delta_beta21=delta_beta21,delta_beta3p=delta_beta3p,lumi=lumi)\n",
    "    m = Minuit(nll_wrapped, **initial_guess)\n",
    "\n",
    "    m.limits['SM'] = (0.8,1.2)\n",
    "\n",
    "    m.limits['Re_S_qLlL'] = (val1,val1)\n",
    "    m.limits['Re_S_qRlL'] = (0.,0.)\n",
    "    m.limits['Re_V_qLlL'] = (0.,0.)\n",
    "    m.limits['Re_V_qRlL'] = (0.,0.)\n",
    "    m.limits['Re_T_qLlL'] = (0.,0.)\n",
    "    m.limits['Im_S_qLlL'] = (val2,val2)\n",
    "    m.limits['Im_S_qRlL'] = (0.,0.)\n",
    "    m.limits['Im_V_qLlL'] = (-0.,0.)\n",
    "    m.limits['Im_V_qRlL'] = (0.,0.)\n",
    "    m.limits['Im_T_qLlL'] = (0.,0.)\n",
    "\n",
    "    m.limits['delta_RhoSq'] = (0.,0.) \n",
    "    m.limits['delta_cSt'] = (0.,0.) \n",
    "    m.limits['delta_chi21'] = (0.,0.) \n",
    "    m.limits['delta_chi2p'] = (0.,0.) \n",
    "    m.limits['delta_chi3p'] = (0.,0.) \n",
    "    m.limits['delta_eta1'] = (0.,0.) \n",
    "    m.limits['delta_etap'] = (0.,0.) \n",
    "    m.limits['delta_phi1p'] = (0.,0.) \n",
    "    m.limits['delta_beta21'] = (0.,0.) \n",
    "    m.limits['delta_beta3p'] = (0.,0.) \n",
    "\n",
    "    m.limits['lumi'] = (1.,1.)\n",
    "    m.migrad()\n",
    "    return m.fval\n",
    "\n",
    "# if you want to save time decrease the value of Granularity (Granularity 30 takes ~30 minutes)\n",
    "# or if you want to have a better resolution increase it but the scan might take some time\n",
    "def scan(fitter):\n",
    "    Granularity = 30\n",
    "    Re_Grid = np.linspace(-1.,1.,Granularity)\n",
    "    Im_Grid = np.linspace(-1.,1.,Granularity)\n",
    "    Chi_Grid = np.zeros((Granularity, Granularity))\n",
    "    for i in range(Granularity):\n",
    "        for j in range(Granularity):\n",
    "            initial_guess = {\n",
    "                'SM': 1.0,\n",
    "                'Re_S_qLlL': Re_Grid[i],\n",
    "                'Im_S_qLlL': Im_Grid[i],\n",
    "                'Re_S_qRlL': 0.0,\n",
    "                'Im_S_qRlL': 0.0,\n",
    "                'Re_V_qLlL': 0.0,\n",
    "                'Im_V_qLlL': 0.0,\n",
    "                'Re_V_qRlL': 0.0,\n",
    "                'Im_V_qRlL': 0.0,\n",
    "                'Re_T_qLlL': 0.0,\n",
    "                'Im_T_qLlL': 0.0,\n",
    "                \"delta_RhoSq\" : 0.,\n",
    "                \"delta_cSt\" : 0.0,\n",
    "                \"delta_chi21\" : 0.,\n",
    "                \"delta_chi2p\" : 0.,\n",
    "                \"delta_chi3p\" : 0.,\n",
    "                \"delta_eta1\" : 0.,\n",
    "                \"delta_etap\" : 0.,\n",
    "                \"delta_phi1p\" : 0.,\n",
    "                \"delta_beta21\" : 0.,\n",
    "                \"delta_beta3p\" : 0.,\n",
    "                'lumi': 1.\n",
    "            }\n",
    "            Chi_Grid[i][j]=fit_scan_FF_fixed(fitter,Re_Grid[i],Im_Grid[j],**initial_guess)\n",
    "    return Chi_Grid"
   ]
  },
  {
   "cell_type": "code",
   "execution_count": null,
   "id": "ab56997d",
   "metadata": {
    "scrolled": true
   },
   "outputs": [],
   "source": [
    "%time Grid_mu = scan(fitter)"
   ]
  },
  {
   "cell_type": "code",
   "execution_count": null,
   "id": "d78eac21",
   "metadata": {},
   "outputs": [],
   "source": [
    "# lets have a look to the result of our scan\n",
    "\n",
    "import matplotlib.pyplot as plt\n",
    "\n",
    "Grid_mu_mod = np.copy(Grid_mu)\n",
    "min_chi_mu = Grid_mu_mod.min()\n",
    "Grid_mu_mod[Grid_mu_mod > min_chi_mu + 10] = min_chi_mu + 10\n",
    "\n",
    "plt.figure(figsize=(8, 6))\n",
    "plt.imshow(Grid_mu_mod.transpose(), cmap='viridis', interpolation='nearest', extent=[-1, 1, -1, 1])\n",
    "plt.colorbar(label=r'nll value')\n",
    "plt.title('SLL')\n",
    "plt.xlabel('Re-axis')\n",
    "plt.ylabel('Im-axis')\n",
    "plt.grid(False)\n",
    "\n",
    "plt.show()\n"
   ]
  },
  {
   "cell_type": "code",
   "execution_count": null,
   "id": "f963dd74",
   "metadata": {},
   "outputs": [],
   "source": [
    "# more simple, as more complex, cases are also possible"
   ]
  },
  {
   "cell_type": "code",
   "execution_count": null,
   "id": "34118e80",
   "metadata": {},
   "outputs": [],
   "source": []
  }
 ],
 "metadata": {
  "kernelspec": {
   "display_name": "Python 3 (ipykernel)",
   "language": "python",
   "name": "python3"
  },
  "language_info": {
   "codemirror_mode": {
    "name": "ipython",
    "version": 3
   },
   "file_extension": ".py",
   "mimetype": "text/x-python",
   "name": "python",
   "nbconvert_exporter": "python",
   "pygments_lexer": "ipython3",
   "version": "3.10.12"
  }
 },
 "nbformat": 4,
 "nbformat_minor": 5
}
