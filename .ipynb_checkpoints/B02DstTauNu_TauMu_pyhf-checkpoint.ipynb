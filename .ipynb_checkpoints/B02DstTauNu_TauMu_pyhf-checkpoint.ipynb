{
 "cells": [
  {
   "cell_type": "code",
   "execution_count": null,
   "id": "8b35ac8b",
   "metadata": {},
   "outputs": [],
   "source": [
    "## import some modules between which also our HamFit_py\n",
    "\n",
    "import HamF_py as hamf\n",
    "from iminuit import Minuit\n",
    "import numpy as np"
   ]
  },
  {
   "cell_type": "code",
   "execution_count": null,
   "id": "a8745738",
   "metadata": {},
   "outputs": [],
   "source": [
    "import numpy as np\n",
    "import pyhf\n",
    "import matplotlib.pyplot as plt\n",
    "import modifier"
   ]
  },
  {
   "cell_type": "code",
   "execution_count": null,
   "id": "bcc5dce4",
   "metadata": {},
   "outputs": [],
   "source": [
    "reader = hamf.Reader(\"B02DstTauNu_TauMu.config\")\n",
    "fitter = reader.createFitter()\n",
    "\n",
    "params = {\"SM\" : 1., \"Re_S_qLlL\" : -0., \"Im_S_qLlL\" : 0. , \"Re_S_qRlL\" : 0., \"Im_S_qRlL\" : 0.,  \"Re_V_qLlL\" : 0., \"Im_V_qLlL\" : 0. , \"Re_V_qRlL\" : 0., \"Im_V_qRlL\" : 0., \"Re_T_qLlL\" : 0.0, \"Im_T_qLlL\" : +0., \"delta_RhoSq\" : 0.0, \"delta_cSt\" : 0.0, \"delta_chi21\" : 0., \"delta_chi2p\" : 0., \"delta_chi3p\" : 0., \"delta_eta1\" : 0., \"delta_etap\" : 0., \"delta_phi1p\" : 0., \"delta_beta21\" : 0., \"delta_beta3p\" : 0.,\"lumi\" : 1.}\n",
    "fitter.plot(**params)"
   ]
  },
  {
   "cell_type": "code",
   "execution_count": null,
   "id": "110ce352",
   "metadata": {},
   "outputs": [],
   "source": [
    "params_SM = {\"SM\" : 1., \"Re_S_qLlL\" : -0., \"Im_S_qLlL\" : 0. , \"Re_S_qRlL\" : 0., \"Im_S_qRlL\" : 0.,  \"Re_V_qLlL\" : 0., \"Im_V_qLlL\" : 0. , \"Re_V_qRlL\" : 0., \"Im_V_qRlL\" : 0., \"Re_T_qLlL\" : 0.0, \"Im_T_qLlL\" : +0., \"delta_RhoSq\" : 0.0, \"delta_cSt\" : 0.0, \"delta_chi21\" : 0., \"delta_chi2p\" : 0., \"delta_chi3p\" : 0., \"delta_eta1\" : 0., \"delta_etap\" : 0., \"delta_phi1p\" : 0., \"delta_beta21\" : 0., \"delta_beta3p\" : 0.,\"lumi\" : 1.}\n",
    "#params_NP = {\"SM\" : 1., \"Re_S_qLlL\" : -0., \"Im_S_qLlL\" : 0. , \"Re_S_qRlL\" : 0., \"Im_S_qRlL\" : 0.,  \"Re_V_qLlL\" : 0., \"Im_V_qLlL\" : 0. , \"Re_V_qRlL\" : 0.3, \"Im_V_qRlL\" : 1., \"Re_T_qLlL\" : 0.0, \"Im_T_qLlL\" : +0., \"delta_RhoSq\" : 0.0, \"delta_cSt\" : 0.0, \"delta_chi21\" : 0., \"delta_chi2p\" : 0., \"delta_chi3p\" : 0., \"delta_eta1\" : 0., \"delta_etap\" : 0., \"delta_phi1p\" : 0., \"delta_beta21\" : 0., \"delta_beta3p\" : 0.,\"lumi\" : 1.}\n",
    "\n",
    "def SM_dist():\n",
    "    params_SM = {\"SM\" : 1., \"Re_S_qLlL\" : -0., \"Im_S_qLlL\" : 0. , \"Re_S_qRlL\" : 0., \"Im_S_qRlL\" : 0.,  \"Re_V_qLlL\" : 0., \"Im_V_qLlL\" : 0. , \"Re_V_qRlL\" : 0., \"Im_V_qRlL\" : 0., \"Re_T_qLlL\" : 0.0, \"Im_T_qLlL\" : +0., \"delta_RhoSq\" : 0.0, \"delta_cSt\" : 0.0, \"delta_chi21\" : 0., \"delta_chi2p\" : 0., \"delta_chi3p\" : 0., \"delta_eta1\" : 0., \"delta_etap\" : 0., \"delta_phi1p\" : 0., \"delta_beta21\" : 0., \"delta_beta3p\" : 0.,\"lumi\" : 1.}\n",
    "    res = fitter._template_list[0].generate_template(**params_SM) + fitter._template_list[1].generate_template(**params_SM)\n",
    "    return res\n",
    "def NP_dist(**kwargs):\n",
    "    params_NP = {\"SM\" : kwargs[\"SM\"], \"Re_S_qLlL\" : kwargs[\"Re_S_qLlL\"], \"Im_S_qLlL\" : kwargs[\"Im_S_qLlL\"], \"Re_S_qRlL\" : kwargs[\"Re_S_qRlL\"], \"Im_S_qRlL\" : kwargs[\"Im_S_qRlL\"],  \"Re_V_qLlL\" : kwargs[\"Re_V_qLlL\"], \"Im_V_qLlL\" : kwargs[\"Im_V_qLlL\"], \"Re_V_qRlL\" : kwargs[\"Re_V_qRlL\"], \"Im_V_qRlL\" : kwargs[\"Im_V_qRlL\"], \"Re_T_qLlL\" : kwargs[\"Re_T_qLlL\"], \"Im_T_qLlL\" : kwargs[\"Im_T_qLlL\"], \"delta_RhoSq\" : kwargs[\"FFs_decorrelated[0]\"], \"delta_cSt\" : kwargs[\"FFs_decorrelated[1]\"], \"delta_chi21\" : kwargs[\"FFs_decorrelated[2]\"], \"delta_chi2p\" : kwargs[\"FFs_decorrelated[3]\"], \"delta_chi3p\" : kwargs[\"FFs_decorrelated[4]\"], \"delta_eta1\" : kwargs[\"FFs_decorrelated[5]\"], \"delta_etap\" : kwargs[\"FFs_decorrelated[6]\"], \"delta_phi1p\" : kwargs[\"FFs_decorrelated[7]\"], \"delta_beta21\" : kwargs[\"FFs_decorrelated[8]\"], \"delta_beta3p\" : kwargs[\"FFs_decorrelated[9]\"],\"lumi\" : 1.}\n",
    "    res = fitter._template_list[0].generate_template(**params_NP) + fitter._template_list[1].generate_template(**params_NP)\n",
    "    return res\n"
   ]
  },
  {
   "cell_type": "code",
   "execution_count": null,
   "id": "147a4059",
   "metadata": {},
   "outputs": [],
   "source": [
    "new_params = {\n",
    "                'SM'   :{'inits': (1.,), 'bounds': ((0., 10.),), 'paramset_type': 'unconstrained'},\n",
    "                'Re_S_qLlL'   :{'inits': (0.,), 'bounds': ((-1.,1.),), 'paramset_type': 'unconstrained'},\n",
    "                'Im_S_qLlL'   :{'inits': (0.,), 'bounds': ((-2.,2.),), 'paramset_type': 'unconstrained'},\n",
    "                'Re_S_qRlL'   :{'inits': (0.,), 'bounds': ((-1.,1.),), 'paramset_type': 'unconstrained'},\n",
    "                'Im_S_qRlL'   :{'inits': (0.,), 'bounds': ((-2.,2.),), 'paramset_type': 'unconstrained'},\n",
    "                'Re_V_qLlL'   :{'inits': (0.,), 'bounds': ((-0.3,0.3),), 'paramset_type': 'unconstrained'},\n",
    "                'Im_V_qLlL'   :{'inits': (0.,), 'bounds': ((-1.,1.),), 'paramset_type': 'unconstrained'},\n",
    "                'Re_V_qRlL'   :{'inits': (0.,), 'bounds': ((-0.3,0.3),), 'paramset_type': 'unconstrained'},\n",
    "                'Im_V_qRlL'   :{'inits': (0.,), 'bounds': ((-1.,1.),), 'paramset_type': 'unconstrained'},\n",
    "                'Re_T_qLlL'   :{'inits': (0.,), 'bounds': ((-0.1,0.1),), 'paramset_type': 'unconstrained'},\n",
    "                'Im_T_qLlL'   :{'inits': (0.,), 'bounds': ((-0.2,0.2),), 'paramset_type': 'unconstrained'},\n",
    "                'FFs'         :{'inits': (0.,0.,0.,0.,0.,0.,0.,0.,0.,0.), \n",
    "                                'bounds': (),\n",
    "                                'cov': [[0.1, 0., 0., 0., 0., 0., 0., 0., 0., 0.],\n",
    "                                        [0., 0.1, 0., 0., 0., 0., 0., 0., 0., 0.],\n",
    "                                        [0., 0., 0.1, 0., 0., 0., 0., 0., 0., 0.],\n",
    "                                        [0., 0., 0., 0.1, 0., 0., 0., 0., 0., 0.],\n",
    "                                        [0., 0., 0., 0., 0.1, 0., 0., 0., 0., 0.],\n",
    "                                        [0., 0., 0., 0., 0., 0.1, 0., 0., 0., 0.],\n",
    "                                        [0., 0., 0., 0., 0., 0., 0.1, 0., 0., 0.],\n",
    "                                        [0., 0., 0., 0., 0., 0., 0., 0.1, 0., 0.],\n",
    "                                        [0., 0., 0., 0., 0., 0., 0., 0., 0.1, 0.],\n",
    "                                        [0., 0., 0., 0., 0., 0., 0., 0., 0., 0.1]],\n",
    "                                'paramset_type': 'constrained_by_normal'\n",
    "                               }\n",
    "            }\n",
    "\n",
    "cmod = modifier.Modifier(new_params, NP_dist, SM_dist)"
   ]
  },
  {
   "cell_type": "code",
   "execution_count": null,
   "id": "9d64b087",
   "metadata": {},
   "outputs": [],
   "source": [
    "data_init = SM_dist()\n",
    "spec = {\n",
    "  \"channels\": [\n",
    "    {\n",
    "      \"name\": \"singlechannel\",\n",
    "      \"samples\": [\n",
    "        {\n",
    "          \"name\": \"signal\",\n",
    "          \"data\": data_init,\n",
    "          \"modifiers\": [\n",
    "            {\n",
    "                \"name\": \"mu\",\n",
    "                \"type\": \"normfactor\",\n",
    "                \"data\": None\n",
    "            }\n",
    "          ]\n",
    "        }\n",
    "      ]\n",
    "    }\n",
    "  ]\n",
    "}\n",
    "\n",
    "\n",
    "model = pyhf.Model(spec)\n",
    "custom_mod = {\n",
    "                \"name\": \"custom_modifier\",\n",
    "                \"type\": \"custom\",\n",
    "                \"data\":\n",
    "                    {\n",
    "                        \"expr\": \"custom_weight_fn\",\n",
    "                    }\n",
    "              }\n",
    "\n",
    "model = modifier.add_to_model(model, ['singlechannel'], ['signal'], cmod.expanded_pyhf, custom_mod)\n",
    "model.spec"
   ]
  },
  {
   "cell_type": "code",
   "execution_count": null,
   "id": "2fcab955",
   "metadata": {},
   "outputs": [],
   "source": [
    "model.main_model.modifiers_appliers['custom'].param_viewer.allpar_viewer.names"
   ]
  },
  {
   "cell_type": "code",
   "execution_count": null,
   "id": "46207b85",
   "metadata": {},
   "outputs": [],
   "source": [
    "model.config.par_map"
   ]
  },
  {
   "cell_type": "code",
   "execution_count": null,
   "id": "773d32b8",
   "metadata": {},
   "outputs": [],
   "source": [
    "cmod.corr_infos"
   ]
  },
  {
   "cell_type": "code",
   "execution_count": null,
   "id": "13a8539d",
   "metadata": {},
   "outputs": [],
   "source": [
    "init = model.config.suggested_init()\n",
    "init[0] = 1. #SM\n",
    "init[1] = 0. #ReSLL\n",
    "init[2] = 0. #ImSLL\n",
    "init[3] = 0. #ReSRL\n",
    "init[4] = 0. #ImSRL\n",
    "init[5] = 0. #ReVLL\n",
    "init[6] = 0. #ImVLL\n",
    "init[7] = 0. #ReVRL\n",
    "init[8] = 0. #ImVRL\n",
    "init[9] = 0. #ReTLL\n",
    "init[10] = 0. #ImTLL\n",
    "\n",
    "init[11] = 0. #FF1\n",
    "init[12] = 0. #FF2\n",
    "init[13] = 0. #FF3\n",
    "init[14] = 0. #FF4\n",
    "init[15] = 0. #FF5\n",
    "init[16] = 0. #FF6\n",
    "init[17] = 0. #FF7\n",
    "init[18] = 0. #FF8\n",
    "init[19] = 0. #FF9\n",
    "init[20] = 0. #FF10\n",
    "\n",
    "init[21] = 1. #mu nominal\n",
    "\n",
    "\n",
    "data = fitter._data.tolist() + model.config.auxdata"
   ]
  },
  {
   "cell_type": "code",
   "execution_count": null,
   "id": "e52ede1e",
   "metadata": {},
   "outputs": [],
   "source": [
    "fixed = model.config.suggested_fixed()\n",
    "#fixed[0] = True #SM\n",
    "fixed[1] = True #ReSLL\n",
    "fixed[2] = True #ImSLL\n",
    "fixed[3] = True #ReSRL\n",
    "fixed[4] = True #ImSRL\n",
    "fixed[5] = True #ReVLL\n",
    "fixed[6] = True #ImVLL\n",
    "fixed[7] = True #ReVRL\n",
    "fixed[8] = True #ImVRL\n",
    "#fixed[9] = True #ReTLL\n",
    "#fixed[10] = True #ImTLL\n",
    "\n",
    "fixed[11] = True #FF1\n",
    "fixed[12] = True #FF2\n",
    "fixed[13] = True #FF3\n",
    "fixed[14] = True #FF4\n",
    "fixed[15] = True #FF5\n",
    "fixed[16] = True #FF6\n",
    "fixed[17] = True #FF7\n",
    "fixed[18] = True #FF8\n",
    "fixed[19] = True #FF9\n",
    "fixed[20] = True #FF10\n",
    "fixed[21] = True # nomi mu\n",
    "\n",
    "pyhf.set_backend(\"numpy\", pyhf.optimize.minuit_optimizer(verbose=True, strategy=1))\n",
    "best_fit = pyhf.infer.mle.fit(data, model, fixed_params=fixed, return_uncertainties=True)\n",
    "\n",
    "best_fit_dict = modifier.par_dict(model, best_fit)"
   ]
  },
  {
   "cell_type": "code",
   "execution_count": null,
   "id": "b861135f",
   "metadata": {},
   "outputs": [],
   "source": [
    "best_fit_dict"
   ]
  },
  {
   "cell_type": "code",
   "execution_count": null,
   "id": "3d526ab8",
   "metadata": {},
   "outputs": [],
   "source": []
  }
 ],
 "metadata": {
  "kernelspec": {
   "display_name": "Python 3 (ipykernel)",
   "language": "python",
   "name": "python3"
  },
  "language_info": {
   "codemirror_mode": {
    "name": "ipython",
    "version": 3
   },
   "file_extension": ".py",
   "mimetype": "text/x-python",
   "name": "python",
   "nbconvert_exporter": "python",
   "pygments_lexer": "ipython3",
   "version": "3.10.12"
  }
 },
 "nbformat": 4,
 "nbformat_minor": 5
}
